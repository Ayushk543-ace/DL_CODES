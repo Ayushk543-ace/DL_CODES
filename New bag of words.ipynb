{
 "cells": [
  {
   "cell_type": "markdown",
   "id": "23ddb018",
   "metadata": {},
   "source": [
    "## Name - Avinash Adsare\n",
    "\n",
    "## Roll No - 43501\n",
    "\n",
    "## Assignment No 5\n",
    "\n",
    "   Implement the Continuous Bag of Words (CBOW) Model. Stages can be:<br>\n",
    "    a. Data preparation<br>\n",
    "    b. Generate training data<br>\n",
    "    c. Train model<br>\n",
    "    d. Output"
   ]
  },
  {
   "cell_type": "markdown",
   "id": "25581e5f",
   "metadata": {},
   "source": [
    "### Loading Data"
   ]
  },
  {
   "cell_type": "code",
   "execution_count": 2,
   "id": "31441fb4",
   "metadata": {},
   "outputs": [
    {
     "name": "stdout",
     "output_type": "stream",
     "text": [
      "['The future king is the prince\\n', 'Daughter is the princess\\n', 'Son is the prince\\n', 'Only a man can be a king\\n', 'Only a woman can be a queen\\n', 'The princess will be a queen\\n', 'The prince is a strong man\\n', 'The princess is a beautiful woman\\n', 'Prince is only a boy now\\n', 'Prince will be king\\n', 'A boy will be a man']\n"
     ]
    }
   ],
   "source": [
    "file = open(r'C:\\Users\\Dell\\Downloads\\royal_text.txt') #file load\n",
    "royal_data = file.readlines()  #line by line read store into list\n",
    "print(royal_data)\n",
    "file.close() #file close open wali"
   ]
  },
  {
   "cell_type": "markdown",
   "id": "049e4c7b",
   "metadata": {},
   "source": [
    "### Removing '\\n' from the end of every sentence and convert the sentence into lowercase"
   ]
  },
  {
   "cell_type": "code",
   "execution_count": 3,
   "id": "a5b0f27a",
   "metadata": {},
   "outputs": [
    {
     "name": "stdout",
     "output_type": "stream",
     "text": [
      "['the future king is the prince', 'daughter is the princess', 'son is the prince', 'only a man can be a king', 'only a woman can be a queen', 'the princess will be a queen', 'the prince is a strong man', 'the princess is a beautiful woman', 'prince is only a boy now', 'prince will be king', 'a boy will be a man']\n"
     ]
    }
   ],
   "source": [
    "for i in range(len(royal_data)):\n",
    "    royal_data[i] = royal_data[i].lower().replace('\\n', '') #lowercase convertion\n",
    "\n",
    "print(royal_data) "
   ]
  },
  {
   "cell_type": "markdown",
   "id": "2dc3bc75",
   "metadata": {},
   "source": [
    "### Removing stop words"
   ]
  },
  {
   "cell_type": "code",
   "execution_count": 4,
   "id": "0b6f3c89",
   "metadata": {},
   "outputs": [
    {
     "name": "stdout",
     "output_type": "stream",
     "text": [
      "[['future', 'king', 'prince'], ['daughter', 'princess'], ['son', 'prince'], ['man', 'king'], ['woman', 'queen'], ['princess', 'queen'], ['prince', 'strong', 'man'], ['princess', 'beautiful', 'woman'], ['prince', 'boy'], ['prince', 'king'], ['boy', 'man']]\n"
     ]
    }
   ],
   "source": [
    "stopwords = ['the', 'is', 'will', 'be', 'a', 'only', 'can', 'their', 'now', 'and', 'at', 'it'] #stopword took\n",
    "\n",
    "filtered_data = []\n",
    "for sent in royal_data: #every line vr loop lavle ani stopword check karnar line by line\n",
    "    temp = []           #word store into temp\n",
    "    for word in sent.split():         #if stopword not find then into temp unique stored\n",
    "        if word not in stopwords:\n",
    "            temp.append(word)\n",
    "    filtered_data.append(temp)\n",
    "\n",
    "print(filtered_data)"
   ]
  },
  {
   "cell_type": "markdown",
   "id": "533f11cf",
   "metadata": {},
   "source": [
    "### Creating bigrams"
   ]
  },
  {
   "cell_type": "code",
   "execution_count": 5,
   "id": "b4240974",
   "metadata": {},
   "outputs": [
    {
     "name": "stdout",
     "output_type": "stream",
     "text": [
      "[['future', 'king'], ['king', 'future'], ['future', 'prince'], ['prince', 'future'], ['king', 'prince'], ['prince', 'king'], ['daughter', 'princess'], ['princess', 'daughter'], ['son', 'prince'], ['prince', 'son'], ['man', 'king'], ['king', 'man'], ['woman', 'queen'], ['queen', 'woman'], ['princess', 'queen'], ['queen', 'princess'], ['prince', 'strong'], ['strong', 'prince'], ['prince', 'man'], ['man', 'prince'], ['strong', 'man'], ['man', 'strong'], ['princess', 'beautiful'], ['beautiful', 'princess'], ['princess', 'woman'], ['woman', 'princess'], ['beautiful', 'woman'], ['woman', 'beautiful'], ['prince', 'boy'], ['boy', 'prince'], ['prince', 'king'], ['king', 'prince'], ['boy', 'man'], ['man', 'boy']]\n"
     ]
    }
   ],
   "source": [
    "bigrams = []\n",
    "for words_list in filtered_data:   #making combinations into 2 word\n",
    "    for i in range(len(words_list) - 1):\n",
    "        for j in range(i+1, len(words_list)):\n",
    "            bigrams.append([words_list[i], words_list[j]]) \n",
    "            bigrams.append([words_list[j], words_list[i]])\n",
    "            \n",
    "\n",
    "print(bigrams)"
   ]
  },
  {
   "cell_type": "markdown",
   "id": "1c30938f",
   "metadata": {},
   "source": [
    "### Getting a list of unique words"
   ]
  },
  {
   "cell_type": "code",
   "execution_count": 6,
   "id": "7f885d1d",
   "metadata": {},
   "outputs": [
    {
     "name": "stdout",
     "output_type": "stream",
     "text": [
      "['beautiful', 'boy', 'daughter', 'future', 'king', 'man', 'prince', 'princess', 'queen', 'son', 'strong', 'woman']\n",
      "Total number of unique words are: 12\n"
     ]
    }
   ],
   "source": [
    "all_words = []\n",
    "for bi in bigrams:\n",
    "    all_words.extend(bi) #iteration all words combine & made set \n",
    "\n",
    "all_words = list(set(all_words)) #set removed double words\n",
    "all_words.sort()\n",
    "\n",
    "print(all_words)\n",
    "print(\"Total number of unique words are:\", len(all_words))"
   ]
  },
  {
   "cell_type": "markdown",
   "id": "f4f797e4",
   "metadata": {},
   "source": [
    "### Creating dictionary of words"
   ]
  },
  {
   "cell_type": "code",
   "execution_count": 7,
   "id": "3ff706a3",
   "metadata": {},
   "outputs": [
    {
     "name": "stdout",
     "output_type": "stream",
     "text": [
      "{'beautiful': 0, 'boy': 1, 'daughter': 2, 'future': 3, 'king': 4, 'man': 5, 'prince': 6, 'princess': 7, 'queen': 8, 'son': 9, 'strong': 10, 'woman': 11}\n"
     ]
    }
   ],
   "source": [
    "words_dict = {}   #make dictionary\n",
    "\n",
    "counter = 0   #words gives value  starting from counter\n",
    "for word in all_words:\n",
    "    words_dict[word] = counter   \n",
    "    counter += 1\n",
    "\n",
    "print(words_dict)"
   ]
  },
  {
   "cell_type": "markdown",
   "id": "0f4d9017",
   "metadata": {},
   "source": [
    "### Performing one-hot encoding"
   ]
  },
  {
   "cell_type": "code",
   "execution_count": 8,
   "id": "7388825d",
   "metadata": {},
   "outputs": [
    {
     "name": "stdout",
     "output_type": "stream",
     "text": [
      "beautiful : [1. 0. 0. 0. 0. 0. 0. 0. 0. 0. 0. 0.]\n",
      "boy : [0. 1. 0. 0. 0. 0. 0. 0. 0. 0. 0. 0.]\n",
      "daughter : [0. 0. 1. 0. 0. 0. 0. 0. 0. 0. 0. 0.]\n",
      "future : [0. 0. 0. 1. 0. 0. 0. 0. 0. 0. 0. 0.]\n",
      "king : [0. 0. 0. 0. 1. 0. 0. 0. 0. 0. 0. 0.]\n",
      "man : [0. 0. 0. 0. 0. 1. 0. 0. 0. 0. 0. 0.]\n",
      "prince : [0. 0. 0. 0. 0. 0. 1. 0. 0. 0. 0. 0.]\n",
      "princess : [0. 0. 0. 0. 0. 0. 0. 1. 0. 0. 0. 0.]\n",
      "queen : [0. 0. 0. 0. 0. 0. 0. 0. 1. 0. 0. 0.]\n",
      "son : [0. 0. 0. 0. 0. 0. 0. 0. 0. 1. 0. 0.]\n",
      "strong : [0. 0. 0. 0. 0. 0. 0. 0. 0. 0. 1. 0.]\n",
      "woman : [0. 0. 0. 0. 0. 0. 0. 0. 0. 0. 0. 1.]\n"
     ]
    }
   ],
   "source": [
    "import numpy as np\n",
    "\n",
    "onehot_data = np.zeros((len(all_words), len(all_words)))   #make matrix \n",
    "\n",
    "for i in range(len(all_words)):\n",
    "    onehot_data[i][i] = 1\n",
    "\n",
    "onehot_dict = {}\n",
    "counter = 0\n",
    "for word in all_words:\n",
    "    onehot_dict[word] = onehot_data[counter]\n",
    "    counter += 1\n",
    "\n",
    "for word in onehot_dict:\n",
    "    print(word, \":\", onehot_dict[word])"
   ]
  },
  {
   "cell_type": "code",
   "execution_count": 17,
   "id": "0be317f7",
   "metadata": {},
   "outputs": [],
   "source": [
    "X = []    #bigrams 1st word put into X & 2nd put Y\n",
    "Y = []\n",
    "\n",
    "for bi in bigrams:\n",
    "    X.append(onehot_dict[bi[0]])\n",
    "    Y.append(onehot_dict[bi[1]])\n",
    "    \n",
    "X = np.array(X)\n",
    "Y = np.array(Y)\n",
    "# print(X)\n",
    "# print(Y)"
   ]
  },
  {
   "cell_type": "markdown",
   "id": "9fb60bb8",
   "metadata": {},
   "source": [
    "### Model Building"
   ]
  },
  {
   "cell_type": "code",
   "execution_count": 12,
   "id": "06432480",
   "metadata": {},
   "outputs": [],
   "source": [
    "from keras.models import Sequential      #train X & Y \n",
    "from keras.layers import Dense\n",
    " \n",
    "embed_size = 2    #biagrams size\n",
    "\n",
    "model = Sequential([\n",
    "    Dense(embed_size, activation='linear'), \n",
    "    Dense(Y.shape[1], activation = 'softmax') #op shape\n",
    "])\n",
    "\n",
    "model.compile(loss = 'categorical_crossentropy', optimizer = 'adam')"
   ]
  },
  {
   "cell_type": "code",
   "execution_count": 13,
   "id": "44f33437",
   "metadata": {},
   "outputs": [
    {
     "data": {
      "text/plain": [
       "<keras.src.callbacks.History at 0x1b71a07f5b0>"
      ]
     },
     "execution_count": 13,
     "metadata": {},
     "output_type": "execute_result"
    }
   ],
   "source": [
    "model.fit(X, Y, epochs = 1000, batch_size = 256, verbose = False) #train model"
   ]
  },
  {
   "cell_type": "code",
   "execution_count": 14,
   "id": "95bdd70e",
   "metadata": {},
   "outputs": [],
   "source": [
    "weights = model.get_weights()[0]   #use models weights \n",
    "\n",
    "word_embeddings = {}\n",
    "for word in all_words:\n",
    "    word_embeddings[word] = weights[words_dict[word]] #weights make dic.\n",
    "\n",
    "# print(word_embeddings)"
   ]
  },
  {
   "cell_type": "code",
   "execution_count": 15,
   "id": "d2ab2821",
   "metadata": {},
   "outputs": [
    {
     "data": {
      "image/png": "[encoded data removed]",
      "text/plain": [
       "<Figure size 640x480 with 1 Axes>"
      ]
     },
     "metadata": {},
     "output_type": "display_data"
    }
   ],
   "source": [
    "import matplotlib.pyplot as plt\n",
    "\n",
    "# plt.figure(figsize = (10, 10))\n",
    "for word in list(words_dict.keys()):\n",
    "    coord = word_embeddings.get(word)\n",
    "    plt.scatter(coord[0], coord[1])\n",
    "    plt.annotate(word, (coord[0], coord[1]))\n",
    "\n",
    "plt.savefig('img.jpg')    #graph shows the relation betn them"
   ]
  },
  {
   "cell_type": "code",
   "execution_count": null,
   "id": "17068779",
   "metadata": {},
   "outputs": [],
   "source": []
  },
  {
   "cell_type": "code",
   "execution_count": null,
   "id": "66c0f599",
   "metadata": {},
   "outputs": [],
   "source": []
  },
  {
   "cell_type": "code",
   "execution_count": null,
   "id": "95a92fa9",
   "metadata": {},
   "outputs": [],
   "source": []
  }
 ],
 "metadata": {
  "kernelspec": {
   "display_name": "Python 3 (ipykernel)",
   "language": "python",
   "name": "python3"
  },
  "language_info": {
   "codemirror_mode": {
    "name": "ipython",
    "version": 3
   },
   "file_extension": ".py",
   "mimetype": "text/x-python",
   "name": "python",
   "nbconvert_exporter": "python",
   "pygments_lexer": "ipython3",
   "version": "3.10.9"
  }
 },
 "nbformat": 4,
 "nbformat_minor": 5
}
